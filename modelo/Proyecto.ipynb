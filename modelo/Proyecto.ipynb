{
 "cells": [
  {
   "cell_type": "markdown",
   "id": "7c8b1e38",
   "metadata": {},
   "source": [
    "# Proyecto: Deteccion de la plaga Mosca Minadora usando CNN"
   ]
  },
  {
   "cell_type": "markdown",
   "id": "a973f49f",
   "metadata": {},
   "source": [
    "## Problematica\n",
    "\n",
    "La mosca minadora (Liriomyza sativae) es una plaga agrícola que afecta gravemente cultivos de hortalizas y plantas ornamentales, provocando daños directos a las hojas, lo que reduce la capacidad fotosintética de las plantas y, en muchos casos, lleva a su muerte. La detección temprana de esta plaga es crucial para implementar tratamientos oportunos y minimizar las pérdidas. Sin embargo, los métodos tradicionales de monitoreo, basados en inspecciones manuales, son ineficientes y costosos. Este proyecto busca resolver esa problemática mediante el desarrollo de una aplicación móvil que utiliza redes neuronales convolucionales (CNN) para identificar la presencia de la mosca minadora a partir de imágenes de hojas, brindando una herramienta eficiente, rápida y accesible para los agricultores. Con esta solución, se busca mejorar la gestión de plagas, reducir costos y aumentar los rendimientos agrícolas al permitir una detección temprana y precisa."
   ]
  },
  {
   "cell_type": "markdown",
   "id": "da055d16",
   "metadata": {},
   "source": [
    "## Hipotesis\n",
    "\n",
    "\"La presencia de la plaga Liriomyza huidobrensis en los cultivos está influenciada por factores visuales que se pueden identificar a través de imágenes de las hojas afectadas. Se espera que un modelo de inteligencia artificial basado en redes neuronales convolucionales (CNN) pueda detectar patrones complejos en las características visuales de las hojas (como las minas y daños causados por la plaga) y predecir con precisión la infestación de la mosca minadora, permitiendo una detección temprana y la toma de medidas preventivas.\""
   ]
  },
  {
   "cell_type": "markdown",
   "id": "d12c6b76",
   "metadata": {},
   "source": [
    "## Datasets\n",
    "\n",
    "\n",
    "Plantas sanas: https://www.kaggle.com/datasets/mexwell/crop-diseases-classification\n",
    "\n",
    "Plantas con plaga: https://www.kaggle.com/datasets/nirmalsankalana/crop-pest-and-disease-detection?select=Cashew+leaf+miner\n",
    "\n",
    "\n",
    "Se selecciono estos datasets ya que al contener gran cantidad de imagenes nos ayudaran a tener un mejor entrenamiento sobre la deteccion de esta plaga"
   ]
  },
  {
   "cell_type": "markdown",
   "id": "76d55153",
   "metadata": {},
   "source": [
    "## Datos de entrada\n",
    "\n",
    "- **Imágenes de hojas con plaga:** Imágenes de hojas afectadas por la Liriomyza sativae (mosca minadora), mostrando las minas y daños causados por la plaga. Ademas de otras imagenes en diferentes etapas de incubacion de la plaga  \n",
    "- **Imágenes de hojas sin plaga:** Imágenes de hojas sanas, que servirán como referencia para que el modelo aprenda a diferenciar entre hojas afectadas y no afectadas."
   ]
  },
  {
   "cell_type": "markdown",
   "id": "416e8620",
   "metadata": {},
   "source": [
    "## Datos de Salida\n",
    "**Presencia de la plaga:** Predicción sobre la presencia de la Liriomyza sativae (mosca minadora) en las hojas de las plantas, clasificada en dos categorías: con plaga y sin plaga."
   ]
  },
  {
   "cell_type": "markdown",
   "id": "33d342db",
   "metadata": {},
   "source": [
    "## Rubro Dirigido\n",
    "\n",
    "**Agricultura:** Agricultores dedicados al cultivo de hortalizas y otros cultivos susceptibles a la plaga Liriomyza sativae."
   ]
  },
  {
   "cell_type": "markdown",
   "id": "72510355",
   "metadata": {},
   "source": [
    "## Flujo de trabajo"
   ]
  },
  {
   "cell_type": "code",
   "execution_count": 8,
   "id": "dd213733",
   "metadata": {},
   "outputs": [
    {
     "data": {
      "text/html": [
       "<img src=\"https://i.imgur.com/PScpFms.png\"/>"
      ],
      "text/plain": [
       "<IPython.core.display.Image object>"
      ]
     },
     "execution_count": 8,
     "metadata": {},
     "output_type": "execute_result"
    }
   ],
   "source": [
    "from IPython.display import Image\n",
    "Image(url='https://i.imgur.com/PScpFms.png')\n"
   ]
  },
  {
   "cell_type": "markdown",
   "id": "fb11a85c",
   "metadata": {},
   "source": [
    "## Diagrama de arquitectura"
   ]
  },
  {
   "cell_type": "code",
   "execution_count": 9,
   "id": "fc0ce7ab",
   "metadata": {},
   "outputs": [
    {
     "data": {
      "text/html": [
       "<img src=\"https://i.imgur.com/kWjnMoT.png\"/>"
      ],
      "text/plain": [
       "<IPython.core.display.Image object>"
      ]
     },
     "execution_count": 9,
     "metadata": {},
     "output_type": "execute_result"
    }
   ],
   "source": [
    "from IPython.display import Image\n",
    "Image(url='https://i.imgur.com/kWjnMoT.png')"
   ]
  }
 ],
 "metadata": {
  "kernelspec": {
   "display_name": "Python 3",
   "language": "python",
   "name": "python3"
  },
  "language_info": {
   "codemirror_mode": {
    "name": "ipython",
    "version": 3
   },
   "file_extension": ".py",
   "mimetype": "text/x-python",
   "name": "python",
   "nbconvert_exporter": "python",
   "pygments_lexer": "ipython3",
   "version": "3.12.6"
  }
 },
 "nbformat": 4,
 "nbformat_minor": 5
}
